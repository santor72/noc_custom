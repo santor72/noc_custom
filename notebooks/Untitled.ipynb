{
 "cells": [
  {
   "cell_type": "code",
   "execution_count": null,
   "id": "4aeb9a20",
   "metadata": {},
   "outputs": [],
   "source": [
    "from ipydrawio_widgets import Diagram\n",
    "from ipywidgets import (\n",
    "    Accordion,\n",
    "    Checkbox,\n",
    "    FloatSlider,\n",
    "    HBox,\n",
    "    IntSlider,\n",
    "    SelectMultiple,\n",
    "    Text,\n",
    "    Textarea,\n",
    "    VBox,\n",
    "    jslink,\n",
    ")\n",
    "from traitlets import dlink, link\n",
    "\n",
    "diagram = Diagram(layout={\"min_height\": \"80vh\", \"flex\": \"1\"})\n",
    "box = HBox([diagram])\n",
    "box"
   ]
  },
  {
   "cell_type": "code",
   "execution_count": 13,
   "id": "51fb533e",
   "metadata": {},
   "outputs": [],
   "source": [
    "from IPython.display import display\n",
    "MIMETYPE = \"application/x-drawio\"\n",
    "def display_drawio(xml, **kwargs):\n",
    "    \"\"\"Send some xml to the frontend\n",
    "\n",
    "    Get a handle to update later by calling `display_drawio` with `display_id=True`\n",
    "    \"\"\"\n",
    "    return display({MIMETYPE: xml}, raw=True, **kwargs)"
   ]
  },
  {
   "cell_type": "code",
   "execution_count": 17,
   "id": "8058545e",
   "metadata": {},
   "outputs": [
    {
     "data": {
      "application/x-drawio": ""
     },
     "metadata": {
      "application/x-drawio": {
       "drawioUrlParams": {
        "chrome": 0,
        "ui": "dark"
       },
       "height": "200px"
      }
     },
     "output_type": "display_data"
    }
   ],
   "source": [
    "display_drawio(\n",
    "    \"\",\n",
    "    metadata={\n",
    "        MIMETYPE: {\"height\": \"200px\", \"drawioUrlParams\": {\"ui\": \"dark\", \"chrome\": 0}},\n",
    "    },\n",
    ")"
   ]
  }
 ],
 "metadata": {
  "kernelspec": {
   "display_name": "Python 3 (ipykernel)",
   "language": "python",
   "name": "python3"
  },
  "language_info": {
   "codemirror_mode": {
    "name": "ipython",
    "version": 3
   },
   "file_extension": ".py",
   "mimetype": "text/x-python",
   "name": "python",
   "nbconvert_exporter": "python",
   "pygments_lexer": "ipython3",
   "version": "3.9.13"
  }
 },
 "nbformat": 4,
 "nbformat_minor": 5
}
